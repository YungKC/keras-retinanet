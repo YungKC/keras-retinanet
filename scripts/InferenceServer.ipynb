{
 "cells": [
  {
   "cell_type": "code",
   "execution_count": 1,
   "metadata": {},
   "outputs": [
    {
     "name": "stderr",
     "output_type": "stream",
     "text": [
      "/home/kai/pythonVirtualEnv/tensorflow/lib/python3.5/site-packages/h5py/__init__.py:36: FutureWarning: Conversion of the second argument of issubdtype from `float` to `np.floating` is deprecated. In future, it will be treated as `np.float64 == np.dtype(float).type`.\n",
      "  from ._conv import register_converters as _register_converters\n",
      "Using TensorFlow backend.\n"
     ]
    }
   ],
   "source": [
    "%matplotlib inline\n",
    "%load_ext autoreload\n",
    "%autoreload 2\n",
    "import math\n",
    "\n",
    "import keras\n",
    "import keras.preprocessing.image\n",
    "from keras_retinanet.models.resnet import custom_objects\n",
    "from keras_retinanet.preprocessing.csv_generator import CSVGenerator\n",
    "\n",
    "import matplotlib.pyplot as plt\n",
    "import cv2\n",
    "import os\n",
    "import numpy as np\n",
    "import time\n",
    "import subprocess\n",
    "import cv2\n",
    "from scipy import ndimage  # for image rotation\n",
    "import statistics\n",
    "\n",
    "import tensorflow as tf\n",
    "\n",
    "def get_session():\n",
    "    config = tf.ConfigProto()\n",
    "    config.gpu_options.allow_growth = True\n",
    "    return tf.Session(config=config)\n",
    "\n",
    "# os.environ[\"CUDA_VISIBLE_DEVICES\"] = \"0\"\n",
    "keras.backend.tensorflow_backend.set_session(get_session())"
   ]
  },
  {
   "cell_type": "code",
   "execution_count": 2,
   "metadata": {},
   "outputs": [
    {
     "name": "stdout",
     "output_type": "stream",
     "text": [
      "/home/kai/.local/lib/python3.5/site-packages/keras_retinanet-0.0.1-py3.5.egg/keras_retinanet/__init__.py\n",
      "/home/kai/.local/lib/python3.5/site-packages/keras_resnet/__init__.py\n",
      "/usr/local/lib/python3.5/dist-packages/Keras-2.1.2-py3.5.egg/keras/__init__.py\n"
     ]
    }
   ],
   "source": [
    "import sys\n",
    "print(sys.modules['keras_retinanet'].__file__)\n",
    "print(sys.modules['keras_resnet'].__file__)\n",
    "print(sys.modules['keras'].__file__)"
   ]
  },
  {
   "cell_type": "code",
   "execution_count": 3,
   "metadata": {},
   "outputs": [
    {
     "name": "stdout",
     "output_type": "stream",
     "text": [
      "WARNING:tensorflow:From /usr/local/lib/python3.5/dist-packages/Keras-2.1.2-py3.5.egg/keras/backend/tensorflow_backend.py:1221: calling reduce_max (from tensorflow.python.ops.math_ops) with keep_dims is deprecated and will be removed in a future version.\n",
      "Instructions for updating:\n",
      "keep_dims is deprecated, use keepdims instead\n"
     ]
    },
    {
     "name": "stderr",
     "output_type": "stream",
     "text": [
      "/usr/local/lib/python3.5/dist-packages/Keras-2.1.2-py3.5.egg/keras/models.py:252: UserWarning: No training configuration found in save file: the model was *not* compiled. Compile it manually.\n",
      "  warnings.warn('No training configuration found in save file: '\n"
     ]
    }
   ],
   "source": [
    "# model = keras.models.load_model('../snapshots/resnet50_csv_06-10kbatch.h5', custom_objects=custom_objects)\n",
    "# model = keras.models.load_model('../snapshots/circuit_resnet50_csv_49.h5', custom_objects=custom_objects)\n",
    "# model = keras.models.load_model('../snapshots/circuit_resnet50_csv_02.h5', custom_objects=custom_objects)\n",
    "#model = keras.models.load_model('/media/kai/Data1/robotPrototype/calibration/modelSnapshots/circuit_180122_resnet50_csv_02.h5', custom_objects=custom_objects)\n",
    "model = keras.models.load_model('/media/kai/Data1/robotPrototype/calibration/modelSnapshots/circuit_180122_resnet50_csv_02.h5', custom_objects=custom_objects)\n",
    "# print(model.summary())"
   ]
  },
  {
   "cell_type": "markdown",
   "metadata": {},
   "source": [
    "## configure the features for the circuit"
   ]
  },
  {
   "cell_type": "code",
   "execution_count": 4,
   "metadata": {},
   "outputs": [
    {
     "name": "stdout",
     "output_type": "stream",
     "text": [
      "20\n"
     ]
    }
   ],
   "source": [
    "x0 = 1078\n",
    "y0 = 514\n",
    "\n",
    "features = [[\"leftHole\", 113-x0, 733-y0, 30],\n",
    "           [\"rightCircuit\", 419-x0, 723-y0, 30],\n",
    "           [\"topHole\", 1127-x0, 180-y0, 30],\n",
    "           [\"batteryContact\", 805-x0, 322-y0, 40],\n",
    "           [\"16GBLabelCorner\", 714-x0, 629-y0, 30],\n",
    "           [\"socketRF\", 782-x0, 718-y0, 30],\n",
    "           [\"socketC\", 950-x0, 259-y0, 30]]\n",
    "\n",
    "numOrigins = 13\n",
    "numFeatures = numOrigins + len(features)\n",
    "\n",
    "print(numFeatures)"
   ]
  },
  {
   "cell_type": "code",
   "execution_count": 5,
   "metadata": {},
   "outputs": [
    {
     "name": "stdout",
     "output_type": "stream",
     "text": [
      "[   0.            0.            0.            0.            0.\n",
      "    0.            0.            0.            0.            0.\n",
      "    0.            0.            0.          167.21369902  162.40372181\n",
      "  -81.65386934 -144.88140612  162.46689866  145.42580853 -116.6548564 ]\n"
     ]
    }
   ],
   "source": [
    "import numpy as np\n",
    "import math\n",
    "\n",
    "initAngle = np.zeros(numFeatures, dtype=float)\n",
    "index = numOrigins\n",
    "for feature in features:\n",
    "    initAngle[index] = math.atan2(feature[2],feature[1]) * 180.0/math.pi\n",
    "    index = index+1\n",
    "\n",
    "print(initAngle)"
   ]
  },
  {
   "cell_type": "code",
   "execution_count": 6,
   "metadata": {},
   "outputs": [],
   "source": [
    "\n",
    "def get2DPose(image):\n",
    "    print(image.shape)\n",
    "    \n",
    "    # copy to draw on\n",
    "    draw = image.copy()\n",
    "    draw = cv2.cvtColor(draw, cv2.COLOR_BGR2RGB)\n",
    "\n",
    "    # preprocess image for network\n",
    "    image = validation_generator.preprocess_image(image)\n",
    "    print(image.shape)\n",
    "    image, scale = validation_generator.resize_image(image)\n",
    "    print(image.shape)\n",
    "    print(scale)\n",
    "    \n",
    "    # process image\n",
    "    start = time.time()\n",
    "    detections = None\n",
    "    _, _, detections = model.predict_on_batch(np.expand_dims(image, axis=0))\n",
    "    print(\"processing time: \", time.time() - start)\n",
    "\n",
    "    # compute predicted labels and scores\n",
    "    predicted_labels = np.argmax(detections[0, :, 4:], axis=1)\n",
    "    scores = detections[0, np.arange(detections.shape[1]), 4 + predicted_labels]\n",
    "    # correct for image scale\n",
    "    detections[0, :, :4] /= scale\n",
    "    \n",
    "    b = None\n",
    "    foundTarget = False\n",
    "    angle = None\n",
    "    centerX = np.zeros(numFeatures, dtype=int)\n",
    "    centerY = np.zeros(numFeatures, dtype=int)\n",
    "\n",
    "    # visualize detections\n",
    "    for idx, (label, score) in enumerate(zip(predicted_labels, scores)):\n",
    "        if (foundTarget and label <= 12) or score < 0.5 or centerX[label] != 0:\n",
    "            continue\n",
    "            \n",
    "        b = detections[0, idx, :4].astype(int)\n",
    "        if label <= 12:\n",
    "            foundTarget = True\n",
    "            originX = (b[0]+b[2])/2\n",
    "            originY = (b[1]+b[3])/2\n",
    "            angle = int(validation_generator.label_to_name(label)[8:])\n",
    "\n",
    "           \n",
    "        cv2.rectangle(draw, (b[0], b[1]), (b[2], b[3]), (0, 0, 255), 3)\n",
    "        caption = \"{} {:.3f}\".format(validation_generator.label_to_name(label), score)\n",
    "        cv2.putText(draw, caption, (b[0], b[1] - 50), cv2.FONT_HERSHEY_PLAIN, 1.5, (0, 0, 0), 3)\n",
    "        cv2.putText(draw, caption, (b[0], b[1] - 50), cv2.FONT_HERSHEY_PLAIN, 1.5, (255, 255, 255), 2)\n",
    "\n",
    "        centerX[label] = (b[2]+b[0])/2\n",
    "        centerY[label] = (b[3]+b[1])/2\n",
    "        print(label, centerX[label], centerY[label], score)\n",
    "        \n",
    "    \n",
    "    plt.figure(figsize=(15, 15))\n",
    "    plt.axis('off')\n",
    "    plt.imshow(draw)\n",
    "    plt.show()\n",
    "\n",
    "    if not foundTarget:\n",
    "        return -999, -999, -999\n",
    "    \n",
    "    \n",
    "    print(\"origin and angle\", originX, originY, angle)\n",
    "    \n",
    "    if not foundTarget:\n",
    "        angleAvg = angle\n",
    "    else:\n",
    "        angleList = [] \n",
    "        for labelID in range(numOrigins+1, numFeatures, 1):\n",
    "            if centerX[labelID] != 0 and centerY[labelID] != 0:\n",
    "                featureAngle = (math.atan2(centerY[labelID] - originY, centerX[labelID] -originX)) * 180.0 / math.pi - initAngle[labelID]\n",
    "                if featureAngle < -180:\n",
    "                    featureAngle = featureAngle + 360\n",
    "                elif featureAngle > 180:\n",
    "                    featureAngle = 360 - featureAngle\n",
    "                print(\"featureAngle:\", labelID, centerX[labelID], centerY[labelID], featureAngle)\n",
    "                angleList.append(featureAngle)\n",
    "    \n",
    "        angleMedian = statistics.median(angleList)\n",
    "    print(\"returning\", originX, originY, angleMedian)\n",
    "    return originX, originY, angleMedian"
   ]
  },
  {
   "cell_type": "code",
   "execution_count": 7,
   "metadata": {},
   "outputs": [],
   "source": [
    "\n",
    "def getMatchedOrigin(inFile, angle, xCenter, yCenter):\n",
    "    origin_length = 25 # length on either side of origin\n",
    "    method = eval('cv2.TM_CCOEFF_NORMED')   \n",
    "    \n",
    "    command = \"convert origin.png -distort SRT '{},{},1,{},{},{}' -alpha off tmp_origin_out.png\".format(origin_length, origin_length, angle, origin_length, origin_length)\n",
    "    print(command)\n",
    "    result = os.system(command)\n",
    "    print(result)\n",
    "    cropped_length = 40\n",
    "\n",
    "    img = cv2.imread(inFile)\n",
    "    template = cv2.imread('tmp_origin_out.png')\n",
    "\n",
    "    img = img[yCenter-cropped_length:yCenter+cropped_length, xCenter-cropped_length:xCenter+cropped_length]\n",
    "    # plt.imsave(\"tmp_cropped.png\", img)\n",
    "\n",
    "    res = cv2.matchTemplate(img, template, method)\n",
    "\n",
    "    min_val, max_val, min_loc, max_loc = cv2.minMaxLoc(res)\n",
    "\n",
    "    print(\"max_val: \", max_val)\n",
    "    print(\"max_loc: \", max_loc)\n",
    "    print(\"max_center: \", max_loc[0]+origin_length, max_loc[1]+origin_length)\n",
    "\n",
    "    xResult = xCenter-cropped_length+max_loc[0]+origin_length\n",
    "    yResult = yCenter-cropped_length+max_loc[1]+origin_length\n",
    "    print(xResult, yResult)\n",
    "    return xResult, yResult\n",
    "\n"
   ]
  },
  {
   "cell_type": "code",
   "execution_count": 8,
   "metadata": {},
   "outputs": [],
   "source": [
    "# feature values for \"/media/kai/Data1/robotPrototype/calibration/180122ConnectorC/out{}.png\"\n",
    "connectorCFeatures = [\n",
    "    [81,117,0],\n",
    "    [135,16,-47.65],\n",
    "    [90,75,-43.68],\n",
    "    [125,58,-33.0],\n",
    "    [125,60,-30.0],\n",
    "    [123,65,-29.0],\n",
    "    [121,67,-26.5],\n",
    "    [112,80,-22.0],\n",
    "    [96,98,-9.25],\n",
    "    [81,117,0,0],\n",
    "    [67,110,2.0],\n",
    "    [61,120,9.25],\n",
    "    [18,120,31.75]\n",
    "]\n",
    "\n",
    "connectorCCropBox = [-207,-373, -27, -223]"
   ]
  },
  {
   "cell_type": "code",
   "execution_count": 9,
   "metadata": {},
   "outputs": [],
   "source": [
    "# TODO: we should use mask for template matching to remove contributions from background\n",
    "# ref: https://vovkos.github.io/doxyrest-showcase/opencv/sphinx_rtd_theme/page_tutorial_template_matching.html\n",
    "\n",
    "def getFeatureOffsetFromOrigin(inFeatures, cropBox, inFileName, originX, originY, angle, debug=False):\n",
    "    command = \"{},{} {}\".format(originX, originY, angle)\n",
    "    outFileName = \"tmp_straightened.png\"\n",
    "    subprocess.run([\"convert\", inFileName, \"-distort\", \"SRT\", command, \"-alpha\", \"off\", outFileName])\n",
    "\n",
    "    img = cv2.imread(outFileName, cv2.IMREAD_GRAYSCALE)\n",
    "    if debug:\n",
    "        print(\"command: \", command)\n",
    "        print(\"cropBox: \", cropBox)\n",
    "        print(\"image shape: \", img.shape)\n",
    "        \n",
    "    img_cropped = img[originY+cropBox[1]:originY+cropBox[3], originX+cropBox[0]:originX+cropBox[2]]\n",
    "    #img_cropped = img\n",
    "    if debug:\n",
    "        print(\"image cropped shape: \", img_cropped.shape)\n",
    "\n",
    "    if img_cropped.shape[0] == 0 or img_cropped.shape[1] == 0:\n",
    "        print(\"out of bound. Need to recenter the target back toward the center.\")\n",
    "        return \"out of bound. Need to recenter the target back toward the center.\"\n",
    "        \n",
    "    bestVal = 100000\n",
    "\n",
    "    for index in range(0,len(inFeatures)):\n",
    "        filename = \"/media/kai/Data1/robotPrototype/calibration/180122ConnectorC/out{}.jpg\".format(index)\n",
    "        cTemplate = cv2.imread(filename, cv2.IMREAD_GRAYSCALE)\n",
    "        w, h = cTemplate.shape[::-1]\n",
    "\n",
    "        result = cv2.matchTemplate(img_cropped, cTemplate, cv2.TM_SQDIFF_NORMED)\n",
    "        (minVal, maxVal, minLoc, maxLoc) = cv2.minMaxLoc(result)\n",
    "        if debug:\n",
    "            print(index, minVal)\n",
    "\n",
    "        if minVal < bestVal:\n",
    "            bestVal = minVal\n",
    "            bestLoc = minLoc\n",
    "            bestIndex = index\n",
    "            bestResult = result\n",
    "\n",
    "    if bestIndex == 0:\n",
    "        print(\"Did not find the connector.\")\n",
    "        return \"Did not find the connector.\"\n",
    "    \n",
    "    top_left = bestLoc\n",
    "    bottom_right = (top_left[0] + w, top_left[1] + h)\n",
    "    if debug:\n",
    "        print(\"best match: \", bestIndex, top_left, bottom_right)\n",
    "    resultX = cropBox[0]+top_left[0]+inFeatures[bestIndex][0]\n",
    "    resultY = cropBox[1]+top_left[1]+inFeatures[bestIndex][1]\n",
    "    resultAngle = inFeatures[bestIndex][2]\n",
    "    if debug:\n",
    "        print(\"result (pixels offset from origin): ({}, {}) , angle = {}\".format(resultX, resultY, resultAngle))\n",
    "    \n",
    "    # return pose relative to origin\n",
    "    resultX = -0.000121 * resultX\n",
    "    resultY = -0.0001216 * resultY - 0.003\n",
    "    resultZ = -0.004\n",
    "\n",
    "    rX = 0\n",
    "    rY = 0\n",
    "    rZ = resultAngle * math.pi/180.0\n",
    "    if debug:\n",
    "        print(\"result (pose offset from origin): ({}, {}) , angle = {}\".format(resultX, resultY, resultAngle))\n",
    "    \n",
    "    if debug:\n",
    "        filename = \"/media/kai/Data1/robotPrototype/calibration/180122ConnectorC/out{}.jpg\".format(bestIndex)\n",
    "        cTemplate = cv2.imread(filename, cv2.IMREAD_GRAYSCALE)\n",
    "        cv2.rectangle(img_cropped,top_left, bottom_right, 255, 3)\n",
    "        plt.subplot(121),plt.imshow(img_cropped,cmap = 'gray')\n",
    "        plt.title('Detected Point'), plt.xticks([]), plt.yticks([])\n",
    "        plt.subplot(122),plt.imshow(cTemplate,cmap = 'gray')\n",
    "        plt.title('template image'), plt.xticks([]), plt.yticks([])\n",
    "        plt.show()\n",
    "        \n",
    "    return \"({}, {}, {}, {}, {}, {})\\n\".format(resultX, resultY, resultZ, rX, rY, rZ)"
   ]
  },
  {
   "cell_type": "markdown",
   "metadata": {
    "collapsed": true
   },
   "source": [
    "# Create Server to respond to identification request"
   ]
  },
  {
   "cell_type": "code",
   "execution_count": 10,
   "metadata": {},
   "outputs": [
    {
     "name": "stdout",
     "output_type": "stream",
     "text": [
      "Starting 2d id program\n"
     ]
    }
   ],
   "source": [
    "import socket\n",
    "import time\n",
    "\n",
    "HOST = \"192.168.1.116\" #The remote host\n",
    "PORT = 3001 # The same port as used by the server\n",
    "print(\"Starting 2d id program\")"
   ]
  },
  {
   "cell_type": "code",
   "execution_count": null,
   "metadata": {},
   "outputs": [],
   "source": [
    "# create image data generator object\n",
    "val_image_data_generator = keras.preprocessing.image.ImageDataGenerator()\n",
    "\n",
    "validation_generator = CSVGenerator(\n",
    "                '/media/kai/Data1/robotPrototype/calibration/MLRotation/annotation7Tiny.txt',\n",
    "                '/media/kai/Data1/robotPrototype/calibration/MLRotation/classname7.txt',\n",
    "                val_image_data_generator,\n",
    "                batch_size=10\n",
    "            )\n",
    "\n",
    "returnVal = None"
   ]
  },
  {
   "cell_type": "code",
   "execution_count": null,
   "metadata": {},
   "outputs": [
    {
     "name": "stdout",
     "output_type": "stream",
     "text": [
      "Waiting for connections...\n"
     ]
    }
   ],
   "source": [
    "finishedLoop = False\n",
    "inFileName = ''\n",
    "xPixel = 0\n",
    "yPixel = 0\n",
    "a = 0.0\n",
    "\n",
    "while finishedLoop == False:\n",
    "    print(\"Waiting for connections...\")\n",
    "    s = socket.socket(socket.AF_INET, socket.SOCK_STREAM)\n",
    "    s.setsockopt(socket.SOL_SOCKET, socket.SO_REUSEADDR, 1)\n",
    "    s.bind((HOST, PORT)) # Bind to the port \n",
    "    s.listen(5) # Now wait for client connection.\n",
    "    c, addr = s.accept() # Establish connection with client.\n",
    "    print(\"Connected\")\n",
    "    foundError = False\n",
    "    finishedInner = False\n",
    "    while foundError == False and finishedInner == False:\n",
    "        try:\n",
    "            msg = c.recv(40).decode(\"utf-8\").strip()\n",
    "            if msg != \"\":\n",
    "                print(\"received: \" + msg)\n",
    "            time.sleep(1)\n",
    "            if msg == \"acquireCircuitOrigin\":\n",
    "                print(\"acquiring...\")\n",
    "                inFileName = \"/media/kai-xps/demo/ur3Control/tmp/undistorted.png\"\n",
    "                image = cv2.imread(inFile)\n",
    "                xPixel,yPixel,a = get2DPose(image)\n",
    "                if xPixel == -999:\n",
    "                    returnVal = \"None Found\"\n",
    "                else:    \n",
    "                    print(\"initialPos:     \", xPixel, yPixel, a)\n",
    "                    xPixel, yPixel = getMatchedOrigin(inFileName, int(round(a)), int(round(xPixel)), int(round(yPixel)))\n",
    "                    print(\"fine tuned Pos: \", xPixel, yPixel, a)\n",
    "                    x = (-0.121 * xPixel + 69.02)/1000.0\n",
    "                    y = (-0.1216 * yPixel + 174.0)/1000.0\n",
    "                    z = -24/1000.0\n",
    "                    rx = 0.0\n",
    "                    ry = 0.0\n",
    "                    rz = a / 180.0 * math.pi\n",
    "                    returnVal = \"{0:8.4f}, {1:8.4f}, {2:8.4f}, {3:6.3f}, {4:6.3f}, {5:6.3f}\".format(x, y, z, rx, ry, rz)\n",
    "                print(\"sending: \", returnVal)\n",
    "                c.send(returnVal.encode())\n",
    "                finishedInner = True\n",
    "            elif msg == \"acquireCircuitOriginFlipped\":\n",
    "                print(\"acquiring...\")\n",
    "                inFileName = \"/media/kai-xps/demo/ur3Control/tmp/undistorted.png\"\n",
    "                image = cv2.imread(inFileName)\n",
    "                rotated = ndimage.rotate(image, 180)\n",
    "                xPixel,yPixel,a = get2DPose(rotated)\n",
    "                if xPixel == -999:\n",
    "                    returnVal = \"None Found\"\n",
    "                else:    \n",
    "                    print(\"initialPos:     \", xPixel, yPixel, a)\n",
    "                    centerX = rotated.shape[1]/2\n",
    "                    centerY = rotated.shape[0]/2\n",
    "\n",
    "                    xPixel = 2*centerX-xPixel\n",
    "                    yPixel = 2*centerY-yPixel\n",
    "                    a = a\n",
    "                    print(\"flipped initialPos:     \", xPixel, yPixel, a)\n",
    "\n",
    "                    x = (-0.121 * xPixel + 69.02)/1000.0\n",
    "                    y = (-0.1216 * yPixel + 174.0)/1000.0\n",
    "                    z = -24/1000.0\n",
    "                    rx = 0.0\n",
    "                    ry = 0.0\n",
    "                    rz = a / 180.0 * math.pi\n",
    "                    returnVal = \"{0:8.4f}, {1:8.4f}, {2:8.4f}, {3:6.3f}, {4:6.3f}, {5:6.3f}\".format(x, y, z, rx, ry, rz)\n",
    "                print(\"sending: \", returnVal)\n",
    "                c.send(returnVal.encode())\n",
    "                finishedInner = True\n",
    "            elif msg == \"getCircuitOrigin\":\n",
    "                returnString = \"({})\\n\".format(returnVal)\n",
    "                c.send(returnString.encode())\n",
    "                print(returnString)\n",
    "                finishedInner = True\n",
    "            elif msg == \"getConnectorCOffset\":\n",
    "                result = getFeatureOffsetFromOrigin(connectorCFeatures, connectorCCropBox, inFileName, xPixel, yPixel, -a, debug=False)\n",
    "                c.send(result.encode())\n",
    "                print(result)\n",
    "                finishedInner = True\n",
    "            elif msg == \"end\":\n",
    "                finishedLoop = True\n",
    "                finishedInner = True\n",
    "        except socket.error as socketError:\n",
    "            print(socketError)\n",
    "            foundError = True\n",
    "    c.close()\n",
    "    s.close()"
   ]
  },
  {
   "cell_type": "code",
   "execution_count": null,
   "metadata": {},
   "outputs": [],
   "source": [
    "c.close()\n",
    "s.close()"
   ]
  },
  {
   "cell_type": "markdown",
   "metadata": {},
   "source": [
    "# Tests"
   ]
  },
  {
   "cell_type": "code",
   "execution_count": null,
   "metadata": {},
   "outputs": [],
   "source": [
    "\n",
    "# create image data generator object\n",
    "val_image_data_generator = keras.preprocessing.image.ImageDataGenerator()\n",
    "\n",
    "validation_generator = CSVGenerator(\n",
    "                '/media/kai/Data1/robotPrototype/calibration/MLRotation/annotation7Tiny.txt',\n",
    "                '/media/kai/Data1/robotPrototype/calibration/MLRotation/classname7.txt',\n",
    "                val_image_data_generator,\n",
    "                batch_size=10\n",
    "            )\n",
    "\n",
    "returnVal = None"
   ]
  },
  {
   "cell_type": "code",
   "execution_count": null,
   "metadata": {},
   "outputs": [],
   "source": [
    "#testFile = \"/media/kai-laptop/study/robot_prototype/ur3Control/tmp/undistorted.png\"\n",
    "#testFile = \"/media/kai/Data1/robotPrototype/data/MLRotation/resultImg6/out_330_460_-10.png\"\n",
    "#testFile = \"/media/kai/Data1/robotPrototype/data/MLRotation/resultImg4/out_330_460_-10.png\"\n",
    "#inFileName = \"/media/kai/Data1/robotPrototype/data/180122Recalibrate2D/undistorted.png\"\n",
    "inFileName = \"/media/kai-xps/demo/ur3Control/tmp/undistorted.png\"\n",
    "image = cv2.imread(inFileName)\n",
    "result = get2DPose(image)\n",
    "# result = get2DPose(\"\\\\\\\\KAI-LAPTOP\\\\Users\\\\kai\\\\study\\\\robot_prototype\\\\ur3Control\\\\tmp\\\\undistorted.png\")\n",
    "# result = get2DPose(\"C:\\\\Users\\\\Kai\\\\study\\\\robot_prototype\\\\pyCameraCalibration\\\\result\\\\raw\\\\img65.jpg.png\")\n",
    "print(\"get2DPose result: \", inFileName, int(round(result[2])), int(round(result[0])), int(round(result[1])))\n",
    "\n",
    "\n",
    "xPixel, yPixel = getMatchedOrigin(inFileName, int(round(result[2])), int(round(result[0])), int(round(result[1])))\n",
    "print (\"matched origin: \", xPixel, yPixel)\n",
    "a = result[2]"
   ]
  },
  {
   "cell_type": "code",
   "execution_count": null,
   "metadata": {},
   "outputs": [],
   "source": [
    "print(inFileName)\n",
    "print(xPixel, yPixel, a)\n",
    "result = getFeatureOffsetFromOrigin(connectorCFeatures, connectorCCropBox, inFileName, xPixel, yPixel, -a, debug=True)"
   ]
  },
  {
   "cell_type": "code",
   "execution_count": null,
   "metadata": {},
   "outputs": [],
   "source": [
    "# testFile = \"/media/kai/Data1/robotPrototype/data/MLRotation/resultImg4/out_400_200_25.png\"\n",
    "#testFile = \"/media/kai/Data1/robotPrototype/data/180109OriginInferenceIssue/undistorted.png\"\n",
    "#testFile = \"/media/kai-laptop/study/robot_prototype/ur3Control/tmp/undistorted.png\"\n",
    "testFile = \"/media/kai-xps/demo/ur3Control/tmp/undistorted.png\"\n",
    "image = cv2.imread(testFile)\n",
    "result = get2DPose(image)"
   ]
  },
  {
   "cell_type": "code",
   "execution_count": null,
   "metadata": {},
   "outputs": [],
   "source": [
    "\n",
    "xResult, yResult = getMatchedOrigin(testFile, -5, 500, 385)"
   ]
  },
  {
   "cell_type": "code",
   "execution_count": null,
   "metadata": {},
   "outputs": [],
   "source": [
    "xPixel = 880\n",
    "yPixel = 235\n",
    "x = (-0.121 * xPixel + 69.332)/1000.0\n",
    "y = (-0.1216 * yPixel + 174.75)/1000.0\n",
    "\n",
    "print(x,y)"
   ]
  },
  {
   "cell_type": "code",
   "execution_count": null,
   "metadata": {},
   "outputs": [],
   "source": [
    "# rotate image and display\n",
    "from scipy import ndimage\n",
    "\n",
    "#img = cv2.imread('/media/kai/Data1/robotPrototype/data/180226ConnectorD/undistorted.png')\n",
    "img = cv2.imread('/media/kai-xps/demo/ur3Control/tmp/undistorted.png')\n",
    "\n",
    "#rotation angle in degree\n",
    "rotated = ndimage.rotate(img, 180)\n",
    "print(rotated.shape)\n",
    "\n",
    "xPixel,yPixel,a = get2DPose(rotated)\n",
    "\n",
    "print(xPixel, yPixel, a)\n",
    "centerX = rotated.shape[1]/2\n",
    "centerY = rotated.shape[0]/2\n",
    "\n",
    "xPixelNew = 2*centerX-xPixel\n",
    "yPixelNew = 2*centerY-yPixel\n",
    "aNew = a\n",
    "\n",
    "print(xPixelNew, yPixelNew, aNew)\n",
    "\n",
    "\n",
    "\n",
    "\n"
   ]
  },
  {
   "cell_type": "code",
   "execution_count": null,
   "metadata": {},
   "outputs": [],
   "source": [
    "from scipy import ndimage\n",
    "import cv2\n",
    "import matplotlib.pyplot as plt\n",
    "\n",
    "draw = cv2.imread('/media/kai/Data1/robotPrototype/data/180226ConnectorD/undistorted.png')\n",
    "draw = cv2.cvtColor(draw, cv2.COLOR_BGR2RGB)\n",
    "\n",
    "#rotation angle in degree\n",
    "rotated = ndimage.rotate(draw, 180)\n",
    "\n",
    "plt.figure(figsize=(15, 15))\n",
    "plt.axis('off')\n",
    "plt.imshow(rotated)\n",
    "plt.show()"
   ]
  },
  {
   "cell_type": "code",
   "execution_count": null,
   "metadata": {},
   "outputs": [],
   "source": []
  }
 ],
 "metadata": {
  "kernelspec": {
   "display_name": "Python 3",
   "language": "python",
   "name": "python3"
  },
  "language_info": {
   "codemirror_mode": {
    "name": "ipython",
    "version": 3
   },
   "file_extension": ".py",
   "mimetype": "text/x-python",
   "name": "python",
   "nbconvert_exporter": "python",
   "pygments_lexer": "ipython3",
   "version": "3.5.2"
  }
 },
 "nbformat": 4,
 "nbformat_minor": 2
}

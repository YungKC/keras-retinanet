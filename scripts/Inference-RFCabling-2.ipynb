{
 "cells": [
  {
   "cell_type": "code",
   "execution_count": null,
   "metadata": {},
   "outputs": [],
   "source": [
    "%matplotlib inline\n",
    "%load_ext autoreload\n",
    "%autoreload 2\n",
    "import math\n",
    "\n",
    "import keras\n",
    "import keras.preprocessing.image\n",
    "from keras_retinanet.models.resnet import custom_objects\n",
    "from keras_retinanet.preprocessing.csv_generator import CSVGenerator\n",
    "\n",
    "import matplotlib.pyplot as plt\n",
    "import cv2\n",
    "import os\n",
    "import numpy as np\n",
    "import time\n",
    "import statistics\n",
    "import tensorflow as tf\n",
    "\n",
    "def get_session():\n",
    "    config = tf.ConfigProto()\n",
    "    config.gpu_options.allow_growth = True\n",
    "    return tf.Session(config=config)\n",
    "\n",
    "# os.environ[\"CUDA_VISIBLE_DEVICES\"] = \"0\"\n",
    "keras.backend.tensorflow_backend.set_session(get_session())"
   ]
  },
  {
   "cell_type": "code",
   "execution_count": null,
   "metadata": {},
   "outputs": [],
   "source": [
    "import sys\n",
    "print(sys.modules['keras_retinanet'].__file__)\n",
    "print(sys.modules['keras_resnet'].__file__)\n",
    "print(sys.modules['keras'].__file__)"
   ]
  },
  {
   "cell_type": "code",
   "execution_count": null,
   "metadata": {},
   "outputs": [],
   "source": [
    "# model = keras.models.load_model('../snapshots/resnet50_csv_06-10kbatch.h5', custom_objects=custom_objects)\n",
    "# model = keras.models.load_model('../snapshots/circuit_resnet50_csv_49.h5', custom_objects=custom_objects)\n",
    "model = keras.models.load_model('../snapshots/circuit_annotation180322CircuitBoardRF/circuit_resnet50_csv_02.h5', custom_objects=custom_objects)\n",
    "# model = keras.models.load_model('/media/kai/Data1/robotPrototype/calibration/modelSnapshots/circuit_resnet50_csv_02.h5', custom_objects=custom_objects)\n",
    "# print(model.summary())"
   ]
  },
  {
   "cell_type": "code",
   "execution_count": null,
   "metadata": {},
   "outputs": [],
   "source": [
    "def add_noise(inData):\n",
    "    result = np.random.normal(inData, scale=0.5).astype(np.uint8)\n",
    "    print(\"adding noise ---- from {}:{} to {}:{}\".format(inData.min(), inData.max(), result.min(), result.max()))\n",
    "    return result\n",
    "\n",
    "def set_to_zero(inData):\n",
    "    result = np.zeros(inData.shape).astype(np.uint8)\n",
    "    print(\"adding noise ---- from {}:{} to {}:{}\".format(inData.min(), inData.max(), result.min(), result.max()))\n",
    "    return result\n",
    "\n"
   ]
  },
  {
   "cell_type": "code",
   "execution_count": null,
   "metadata": {},
   "outputs": [],
   "source": [
    "# load image\n",
    "index = np.random.randint(0,16800)\n",
    "image = validation_generator.load_image(index)\n",
    "print(image.shape)"
   ]
  },
  {
   "cell_type": "code",
   "execution_count": null,
   "metadata": {},
   "outputs": [],
   "source": [
    "# use this block to test against actual image\n",
    "# image = cv2.imread(\"testImg/cellBaseRotated3.bmp.png\")\n",
    "#image = cv2.imread(\"C:\\\\Users\\\\Kai\\\\study\\\\robot_prototype\\\\ur3Control\\\\tmp\\\\undistorted.png\")\n",
    "#image = cv2.imread(\"//KAI-LAPTOP/Users/kai/study/robot_prototype/ur3Control/tmp/undistorted.png\")\n",
    "index = 0\n",
    "image = cv2.imread(\"/media/kai-laptop/study/robot_prototype/ur3Control/tmp/undistorted.png\")\n",
    "print(image.shape)"
   ]
  },
  {
   "cell_type": "code",
   "execution_count": null,
   "metadata": {},
   "outputs": [],
   "source": [
    "image = add_noise(image)"
   ]
  },
  {
   "cell_type": "code",
   "execution_count": null,
   "metadata": {},
   "outputs": [],
   "source": [
    "\n",
    "# copy to draw on\n",
    "draw = image.copy()\n",
    "draw = cv2.cvtColor(draw, cv2.COLOR_BGR2RGB)\n",
    "\n",
    "# preprocess image for network\n",
    "image = validation_generator.preprocess_image(image)\n",
    "print(image.shape)\n",
    "image, scale = validation_generator.resize_image(image)\n",
    "print(image.shape)\n",
    "annotations = validation_generator.load_annotations(index)\n",
    "\n",
    "print(index)\n",
    "print(validation_generator.image_path(index))\n",
    "print(scale)\n",
    "print(annotations)\n"
   ]
  },
  {
   "cell_type": "code",
   "execution_count": null,
   "metadata": {},
   "outputs": [],
   "source": [
    "# process image\n",
    "start = time.time()\n",
    "detections = None\n",
    "_, _, detections = model.predict_on_batch(np.expand_dims(image, axis=0))\n",
    "print(\"processing time: \", time.time() - start)\n",
    "\n",
    "# compute predicted labels and scores\n",
    "predicted_labels = np.argmax(detections[0, :, 4:], axis=1)\n",
    "print(predicted_labels[0:10])\n",
    "scores = detections[0, np.arange(detections.shape[1]), 4 + predicted_labels]\n",
    "print(scores[0:10])\n",
    "# correct for image scale\n",
    "detections[0, :, :4] /= scale\n"
   ]
  },
  {
   "cell_type": "markdown",
   "metadata": {},
   "source": [
    "## Physical measurement:\n",
    "\n",
    "- center of left hole to edge clamp of ribbon cable: 9mm\n",
    "- center of left hole to center of socket: 24.5mm\n",
    "- center of left hole to center of right circuit feature: 36mm\n",
    "\n"
   ]
  },
  {
   "cell_type": "code",
   "execution_count": null,
   "metadata": {
    "scrolled": true
   },
   "outputs": [],
   "source": [
    "\n",
    "# visualize annotations\n",
    "'''\n",
    "for annotation in annotations:\n",
    "    label = int(annotation[4])\n",
    "    b = annotation[:4].astype(int)\n",
    "    cv2.rectangle(draw, (b[0], b[1]), (b[2], b[3]), (0, 255, 0), 2)\n",
    "    caption = \"{}\".format(validation_generator.label_to_name(label))\n",
    "    cv2.putText(draw, caption, (b[0], b[1] - 10), cv2.FONT_HERSHEY_PLAIN, 1.5, (0, 0, 0), 3)\n",
    "    cv2.putText(draw, caption, (b[0], b[1] - 10), cv2.FONT_HERSHEY_PLAIN, 1.5, (255, 255, 255), 2)\n",
    "'''\n",
    "\n",
    "centerX = np.zeros(18, dtype=int)\n",
    "centerY = np.zeros(18, dtype=int)\n",
    "\n",
    "# visualize detections\n",
    "for idx, (label, score) in enumerate(zip(predicted_labels, scores)):\n",
    "    if score < 0.5:\n",
    "        continue\n",
    "    b = detections[0, idx, :4].astype(int)\n",
    "    cv2.rectangle(draw, (b[0], b[1]), (b[2], b[3]), (0, 0, 255), 3)\n",
    "    caption = \"{} {:.3f}\".format(validation_generator.label_to_name(label), score)\n",
    "    cv2.putText(draw, caption, (b[0], b[1] - 50), cv2.FONT_HERSHEY_PLAIN, 1.5, (0, 0, 0), 3)\n",
    "    cv2.putText(draw, caption, (b[0], b[1] - 50), cv2.FONT_HERSHEY_PLAIN, 1.5, (255, 255, 255), 2)\n",
    "\n",
    "    centerX[label] = b[0] + (b[2]-b[0])/2\n",
    "    centerY[label] = b[1] + (b[3]-b[1])/2\n",
    "    print(label, centerX[label], centerY[label])\n",
    "    \n",
    "plt.figure(figsize=(15, 15))\n",
    "plt.axis('off')\n",
    "plt.imshow(draw)\n",
    "plt.show()\n",
    "\n",
    "print (centerX[14], centerY[14], centerX[15], centerY[15])\n"
   ]
  },
  {
   "cell_type": "markdown",
   "metadata": {},
   "source": [
    "# Define function to return 2D pose from image file"
   ]
  },
  {
   "cell_type": "markdown",
   "metadata": {},
   "source": [
    "## calculate the angle from at least 3 points:\n",
    "- origin\n",
    "- left hole\n",
    "- top hole\n",
    "\n",
    "\n",
    "\n"
   ]
  },
  {
   "cell_type": "code",
   "execution_count": null,
   "metadata": {},
   "outputs": [],
   "source": [
    "# using hole1 as the origin\n",
    "\n",
    "x0 = 1104\n",
    "y0 = 478\n",
    "ORIGIN_LABEL_ID = 0\n",
    "\n",
    "features = [[\"hole1\", 1104-x0, 478-y0, 25],\n",
    "           [\"hole2\", 388-x0, 731-y0, 50],\n",
    "           [\"rfSocket\", 1150-x0, 328-y0, 30],\n",
    "           [\"tab1\", 1037-x0, 284-y0, 25],\n",
    "           [\"tab2\", 578-x0, 285-y0, 25]\n",
    "           ]\n",
    "\n",
    "numOrigins = 0\n",
    "numFeatures = numOrigins + len(features)\n",
    "\n",
    "print(numFeatures)"
   ]
  },
  {
   "cell_type": "code",
   "execution_count": null,
   "metadata": {},
   "outputs": [],
   "source": [
    "import numpy as np\n",
    "import math\n",
    "\n",
    "initAngle = np.zeros(numFeatures, dtype=float)\n",
    "index = numOrigins\n",
    "for feature in features:\n",
    "    initAngle[index] = math.atan2(feature[2],feature[1]) * 180.0/math.pi\n",
    "    index = index+1\n",
    "\n",
    "print(initAngle)"
   ]
  },
  {
   "cell_type": "code",
   "execution_count": null,
   "metadata": {},
   "outputs": [],
   "source": [
    "\n",
    "def get2DPose(inFile):\n",
    "    image = cv2.imread(inFile)\n",
    "    print(image.shape)\n",
    "    \n",
    "    # copy to draw on\n",
    "    draw = image.copy()\n",
    "    draw = cv2.cvtColor(draw, cv2.COLOR_BGR2RGB)\n",
    "\n",
    "    # preprocess image for network\n",
    "    image = validation_generator.preprocess_image(image)\n",
    "    print(image.shape)\n",
    "    image, scale = validation_generator.resize_image(image)\n",
    "    print(image.shape)\n",
    "    print(scale)\n",
    "    \n",
    "    # process image\n",
    "    start = time.time()\n",
    "    detections = None\n",
    "    _, _, detections = model.predict_on_batch(np.expand_dims(image, axis=0))\n",
    "    print(\"processing time: \", time.time() - start)\n",
    "\n",
    "    # compute predicted labels and scores\n",
    "    predicted_labels = np.argmax(detections[0, :, 4:], axis=1)\n",
    "    scores = detections[0, np.arange(detections.shape[1]), 4 + predicted_labels]\n",
    "    # correct for image scale\n",
    "    detections[0, :, :4] /= scale\n",
    "    \n",
    "    b = None\n",
    "    foundTarget = False\n",
    "    angle = None\n",
    "    centerX = np.zeros(numFeatures, dtype=int)\n",
    "    centerY = np.zeros(numFeatures, dtype=int)\n",
    "\n",
    "    # visualize detections\n",
    "    for idx, (label, score) in enumerate(zip(predicted_labels, scores)):\n",
    "        if score < 0.5 or centerX[label] != 0:\n",
    "            continue\n",
    "            \n",
    "        b = detections[0, idx, :4].astype(int)\n",
    "        if label == ORIGIN_LABEL_ID: # using hole1 as the origin\n",
    "            foundTarget = True\n",
    "            originX = (b[0]+b[2])/2\n",
    "            originY = (b[1]+b[3])/2\n",
    "           \n",
    "        cv2.rectangle(draw, (b[0], b[1]), (b[2], b[3]), (0, 0, 255), 3)\n",
    "        caption = \"{} {:.3f}\".format(validation_generator.label_to_name(label), score)\n",
    "        cv2.putText(draw, caption, (b[0], b[1] - 50), cv2.FONT_HERSHEY_PLAIN, 1.5, (0, 0, 0), 3)\n",
    "        cv2.putText(draw, caption, (b[0], b[1] - 50), cv2.FONT_HERSHEY_PLAIN, 1.5, (255, 255, 255), 2)\n",
    "\n",
    "        centerX[label] = (b[2]+b[0])/2\n",
    "        centerY[label] = (b[3]+b[1])/2\n",
    "        print(label, centerX[label], centerY[label], score)\n",
    "        \n",
    "    \n",
    "    plt.figure(figsize=(15, 15))\n",
    "    plt.axis('off')\n",
    "    plt.imshow(draw)\n",
    "    plt.show()\n",
    "\n",
    "    if not foundTarget:\n",
    "        return -999, -999, -999\n",
    "    \n",
    "    \n",
    "    print(\"origin and angle\", originX, originY, angle)\n",
    "    \n",
    "    if not foundTarget:\n",
    "        angleAvg = angle\n",
    "    else:\n",
    "        angleList = [] \n",
    "        for labelID in range(numOrigins+1, numFeatures, 1):\n",
    "            if centerX[labelID] != 0 and centerY[labelID] != 0:\n",
    "                featureAngle = (math.atan2(centerY[labelID] - originY, centerX[labelID] -originX)) * 180.0 / math.pi - initAngle[labelID]\n",
    "                if featureAngle < -180:\n",
    "                    featureAngle = featureAngle + 360\n",
    "                elif featureAngle > 180:\n",
    "                    featureAngle = 360 - featureAngle\n",
    "                print(\"featureAngle:\", labelID, centerX[labelID], centerY[labelID], featureAngle)\n",
    "                angleList.append(featureAngle)\n",
    "    \n",
    "        angleMedian = statistics.median(angleList)\n",
    "    print(\"returning\", originX, originY, angleMedian)\n",
    "    return originX, originY, angleMedian"
   ]
  },
  {
   "cell_type": "code",
   "execution_count": null,
   "metadata": {},
   "outputs": [],
   "source": [
    "method = eval('cv2.TM_CCOEFF_NORMED')"
   ]
  },
  {
   "cell_type": "code",
   "execution_count": null,
   "metadata": {},
   "outputs": [],
   "source": [
    "import os\n",
    "import cv2\n",
    "\n",
    "def getMatchedOrigin(inFile, angle, xCenter, yCenter):\n",
    "    origin_length = 25 # length on either side of origin\n",
    "    \n",
    "    command = \"convert origin.png -distort SRT '{},{},1,{},{},{}' -alpha off tmp_origin_out.png\".format(origin_length, origin_length, angle, origin_length, origin_length)\n",
    "    print(command)\n",
    "    result = os.system(command)\n",
    "    print(result)\n",
    "    cropped_length = 40\n",
    "\n",
    "    img = cv2.imread(inFile)\n",
    "    template = cv2.imread('tmp_origin_out.png')\n",
    "\n",
    "    img = img[yCenter-cropped_length:yCenter+cropped_length, xCenter-cropped_length:xCenter+cropped_length]\n",
    "    # plt.imsave(\"tmp_cropped.png\", img)\n",
    "\n",
    "    res = cv2.matchTemplate(img, template, method)\n",
    "\n",
    "    min_val, max_val, min_loc, max_loc = cv2.minMaxLoc(res)\n",
    "\n",
    "    print(\"max_val: \", max_val)\n",
    "    print(\"max_loc: \", max_loc)\n",
    "    print(\"max_center: \", max_loc[0]+origin_length, max_loc[1]+origin_length)\n",
    "\n",
    "    xResult = xCenter-cropped_length+max_loc[0]+origin_length\n",
    "    yResult = yCenter-cropped_length+max_loc[1]+origin_length\n",
    "    print(xResult, yResult)\n",
    "    return xResult, yResult\n",
    "\n"
   ]
  },
  {
   "cell_type": "markdown",
   "metadata": {
    "collapsed": true
   },
   "source": [
    "# Create Server to respond to identification request"
   ]
  },
  {
   "cell_type": "code",
   "execution_count": null,
   "metadata": {},
   "outputs": [],
   "source": [
    "import socket\n",
    "import time\n",
    "\n",
    "HOST = \"192.168.1.116\" #The remote host\n",
    "PORT = 3001 # The same port as used by the server\n",
    "print(\"Starting 2d id program\")"
   ]
  },
  {
   "cell_type": "code",
   "execution_count": null,
   "metadata": {},
   "outputs": [],
   "source": [
    "returnVal = None"
   ]
  },
  {
   "cell_type": "code",
   "execution_count": null,
   "metadata": {},
   "outputs": [],
   "source": [
    "# create image data generator object\n",
    "val_image_data_generator = keras.preprocessing.image.ImageDataGenerator()\n",
    "\n",
    "validation_generator = CSVGenerator(\n",
    "                '/media/kai/Data1/robotPrototype/calibration/MLRotation/annotation6Tiny.txt',\n",
    "                '/media/kai/Data1/robotPrototype/calibration/MLRotation/classname6.txt',\n",
    "                val_image_data_generator,\n",
    "                batch_size=10\n",
    "            )"
   ]
  },
  {
   "cell_type": "code",
   "execution_count": null,
   "metadata": {},
   "outputs": [],
   "source": [
    "finishedLoop = False\n",
    "while finishedLoop == False:\n",
    "    print(\"Waiting for connections...\")\n",
    "    s = socket.socket(socket.AF_INET, socket.SOCK_STREAM)\n",
    "    s.setsockopt(socket.SOL_SOCKET, socket.SO_REUSEADDR, 1)\n",
    "    s.bind((HOST, PORT)) # Bind to the port \n",
    "    s.listen(5) # Now wait for client connection.\n",
    "    c, addr = s.accept() # Establish connection with client.\n",
    "    print(\"Connected\")\n",
    "    foundError = False\n",
    "    finishedInner = False\n",
    "    while foundError == False and finishedInner == False:\n",
    "        try:\n",
    "            msg = c.recv(40).decode(\"utf-8\").strip()\n",
    "            if msg != \"\":\n",
    "                print(\"received: \" + msg)\n",
    "            time.sleep(1)\n",
    "            if msg == \"acquireCircuitOrigin\":\n",
    "                print(\"acquiring...\")\n",
    "                inFileName = \"/media/kai-laptop/study/robot_prototype/ur3Control/tmp/undistorted.png\"\n",
    "                x,y,a = get2DPose(inFileName)\n",
    "                if x == -999:\n",
    "                    returnVal = \"None Found\"\n",
    "                else:    \n",
    "                    print(\"initialPos:     \", x, y, a)\n",
    "                    x, y = getMatchedOrigin(inFileName, int(round(a)), int(round(x)), int(round(y)))\n",
    "                    print(\"fine tuned Pos: \", x, y, a)\n",
    "                    x = (-0.1618 * x + 89.08)/1000.0\n",
    "                    y = (-0.1627 * y + 178.933)/1000.0\n",
    "                    z = -24.0/1000.0\n",
    "                    rx = 0.0\n",
    "                    ry = 0.0\n",
    "                    rz = a / 180.0 * math.pi\n",
    "                    returnVal = \"{0:8.4f}, {1:8.4f}, {2:8.4f}, {3:6.3f}, {4:6.3f}, {5:6.3f}\".format(x, y, z, rx, ry, rz)\n",
    "                print(\"sending: \", returnVal)\n",
    "                c.send(returnVal.encode())\n",
    "                finishedInner = True\n",
    "            elif msg == \"getCircuitOrigin\":\n",
    "                returnString = \"({})\\n\".format(returnVal)\n",
    "                c.send(returnString.encode())\n",
    "                print(returnString)\n",
    "                finishedInner = True\n",
    "            elif msg == \"end\":\n",
    "                finishedLoop = True\n",
    "                finishedInner = True\n",
    "        except socket.error as socketError:\n",
    "            print(socketError)\n",
    "            foundError = True\n",
    "    c.close()\n",
    "    s.close()"
   ]
  },
  {
   "cell_type": "code",
   "execution_count": null,
   "metadata": {},
   "outputs": [],
   "source": [
    "c.close()\n",
    "s.close()"
   ]
  },
  {
   "cell_type": "markdown",
   "metadata": {},
   "source": [
    "# Tests"
   ]
  },
  {
   "cell_type": "code",
   "execution_count": null,
   "metadata": {},
   "outputs": [],
   "source": [
    "# create image data generator object\n",
    "val_image_data_generator = keras.preprocessing.image.ImageDataGenerator()\n",
    "\n",
    "validation_generator = CSVGenerator(\n",
    "                '/media/kai/Data1/robotPrototype/data/MLRotation/annotation180322CircuitBoardRF.txt',\n",
    "                '/media/kai/Data1/robotPrototype/data/MLRotation/classname180322CircuitBoardRF.txt',\n",
    "                val_image_data_generator,\n",
    "                batch_size=10\n",
    "            )"
   ]
  },
  {
   "cell_type": "code",
   "execution_count": null,
   "metadata": {},
   "outputs": [],
   "source": [
    "#testFile = \"/media/kai-laptop/study/robot_prototype/ur3Control/tmp/undistorted.png\"\n",
    "#testFile = \"/media/kai/Data1/robotPrototype/data/MLRotation/resultImg6/out_330_460_-10.png\"\n",
    "testFile = \"/media/kai/Data1/robotPrototype/data/MLRotation/circuitBoard180319.png\"\n",
    "#testFile = \"/media/kai/Data1/robotPrototype/data/180115WideAngleCalibration/wideAngleImage1.undistorted.png\"\n",
    "\n",
    "result = get2DPose(testFile)\n",
    "# result = get2DPose(\"\\\\\\\\KAI-LAPTOP\\\\Users\\\\kai\\\\study\\\\robot_prototype\\\\ur3Control\\\\tmp\\\\undistorted.png\")\n",
    "# result = get2DPose(\"C:\\\\Users\\\\Kai\\\\study\\\\robot_prototype\\\\pyCameraCalibration\\\\result\\\\raw\\\\img65.jpg.png\")\n",
    "print(testFile, int(round(result[2])), int(round(result[0])), int(round(result[1])))\n",
    "\n",
    "xResult, yResult = getMatchedOrigin(testFile, int(round(result[2])), int(round(result[0])), int(round(result[1])))\n",
    "print (xResult, yResult)"
   ]
  },
  {
   "cell_type": "code",
   "execution_count": null,
   "metadata": {},
   "outputs": [],
   "source": [
    "# testFile = \"/media/kai/Data1/robotPrototype/data/MLRotation/resultImg4/out_400_200_25.png\"\n",
    "#testFile = \"/media/kai/Data1/robotPrototype/data/180109OriginInferenceIssue/undistorted.png\"\n",
    "#testFile = \"/media/kai-laptop/study/robot_prototype/ur3Control/tmp/undistorted.png\"\n",
    "#testFile = \"/media/kai-laptop/study/robot_prototype/ur3Control/tmp/undistorted.png\"\n",
    "#testFile = \"/media/kai/Data1/robotPrototype/data/MLRotation/circuitBoard180319.png\"\n",
    "testFile = \"/media/kai/Data1/robotPrototype/data/MLRotation/180322CircuitBoardRF/val1.png\"\n",
    "\n",
    "result = get2DPose(testFile)"
   ]
  },
  {
   "cell_type": "code",
   "execution_count": null,
   "metadata": {},
   "outputs": [],
   "source": [
    "\n",
    "xResult, yResult = getMatchedOrigin(testFile, -5, 500, 385)"
   ]
  },
  {
   "cell_type": "code",
   "execution_count": null,
   "metadata": {},
   "outputs": [],
   "source": []
  },
  {
   "cell_type": "code",
   "execution_count": null,
   "metadata": {},
   "outputs": [],
   "source": []
  }
 ],
 "metadata": {
  "kernelspec": {
   "display_name": "tensorflow",
   "language": "python",
   "name": "tensorflow"
  },
  "language_info": {
   "codemirror_mode": {
    "name": "ipython",
    "version": 3
   },
   "file_extension": ".py",
   "mimetype": "text/x-python",
   "name": "python",
   "nbconvert_exporter": "python",
   "pygments_lexer": "ipython3",
   "version": "3.5.2"
  }
 },
 "nbformat": 4,
 "nbformat_minor": 2
}

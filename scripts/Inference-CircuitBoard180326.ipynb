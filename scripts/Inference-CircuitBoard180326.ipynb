{
 "cells": [
  {
   "cell_type": "markdown",
   "metadata": {},
   "source": [
    "Inference notebook to determine the origin and key features of the circuit board used for connector assembly\n",
    "using the 180326CircuitBoard image data set\n",
    "- model used random augmentation of position, rotation\\\n",
    "- used various lighting environments, including LED ring light, as light source"
   ]
  },
  {
   "cell_type": "code",
   "execution_count": null,
   "metadata": {},
   "outputs": [],
   "source": [
    "%matplotlib inline\n",
    "%load_ext autoreload\n",
    "%autoreload 2\n",
    "import math\n",
    "\n",
    "import keras\n",
    "import keras.preprocessing.image\n",
    "from keras_retinanet.models.resnet import custom_objects\n",
    "from keras_retinanet.preprocessing.csv_generator import CSVGenerator\n",
    "\n",
    "import matplotlib.pyplot as plt\n",
    "import cv2\n",
    "import os\n",
    "import numpy as np\n",
    "import time\n",
    "import statistics\n",
    "import tensorflow as tf\n",
    "\n",
    "def get_session():\n",
    "    config = tf.ConfigProto()\n",
    "    config.gpu_options.allow_growth = True\n",
    "    return tf.Session(config=config)\n",
    "\n",
    "# os.environ[\"CUDA_VISIBLE_DEVICES\"] = \"0\"\n",
    "keras.backend.tensorflow_backend.set_session(get_session())"
   ]
  },
  {
   "cell_type": "code",
   "execution_count": null,
   "metadata": {},
   "outputs": [],
   "source": [
    "import sys\n",
    "print(sys.modules['keras_retinanet'].__file__)\n",
    "print(sys.modules['keras_resnet'].__file__)\n",
    "print(sys.modules['keras'].__file__)"
   ]
  },
  {
   "cell_type": "code",
   "execution_count": null,
   "metadata": {},
   "outputs": [],
   "source": [
    "# model = keras.models.load_model('../snapshots/resnet50_csv_06-10kbatch.h5', custom_objects=custom_objects)\n",
    "# model = keras.models.load_model('../snapshots/circuit_resnet50_csv_49.h5', custom_objects=custom_objects)\n",
    "model = keras.models.load_model('../snapshots/circuit_180326/circuit_resnet50_csv_37.h5', custom_objects=custom_objects)\n",
    "# model = keras.models.load_model('/media/kai/Data1/robotPrototype/calibration/modelSnapshots/circuit_resnet50_csv_02.h5', custom_objects=custom_objects)\n",
    "# print(model.summary())"
   ]
  },
  {
   "cell_type": "code",
   "execution_count": null,
   "metadata": {},
   "outputs": [],
   "source": [
    "def add_noise(inData):\n",
    "    result = np.random.normal(inData, scale=0.5).astype(np.uint8)\n",
    "    print(\"adding noise ---- from {}:{} to {}:{}\".format(inData.min(), inData.max(), result.min(), result.max()))\n",
    "    return result\n",
    "\n",
    "def set_to_zero(inData):\n",
    "    result = np.zeros(inData.shape).astype(np.uint8)\n",
    "    print(\"adding noise ---- from {}:{} to {}:{}\".format(inData.min(), inData.max(), result.min(), result.max()))\n",
    "    return result\n",
    "\n"
   ]
  },
  {
   "cell_type": "code",
   "execution_count": null,
   "metadata": {},
   "outputs": [],
   "source": [
    "# using hole1 as the origin\n",
    "\n",
    "x0 = 1092\n",
    "y0 = 610\n",
    "ORIGIN_LABEL_ID = 0\n",
    "\n",
    "features = [[\"originHole\", 1092-x0, 610-y0, 30],\n",
    "           [\"rightCircuit\", 469-x0, 818-y0, 30],\n",
    "           [\"topHole\", 1140-x0, 267-y0, 30],\n",
    "           [\"batteryContact\", 819-x0, 417-y0, 40],\n",
    "           [\"16GBLabelCorner\", 728-x0, 724-y0, 30],\n",
    "           [\"socketRF\", 796-x0, 814-y0, 30],\n",
    "           [\"socketC\", 964-x0, 356-y0, 30],\n",
    "           [\"bottomLeftHole\", 128-x0, 827-y0, 25]]           \n",
    "\n",
    "numOrigins = 0\n",
    "numFeatures = numOrigins + len(features)\n",
    "\n",
    "print(numFeatures)"
   ]
  },
  {
   "cell_type": "code",
   "execution_count": null,
   "metadata": {},
   "outputs": [],
   "source": [
    "import numpy as np\n",
    "import math\n",
    "\n",
    "initAngle = np.zeros(numFeatures, dtype=float)\n",
    "index = numOrigins\n",
    "for feature in features:\n",
    "    initAngle[index] = math.atan2(feature[2],feature[1]) * 180.0/math.pi\n",
    "    index = index+1\n",
    "\n",
    "print(initAngle)"
   ]
  },
  {
   "cell_type": "code",
   "execution_count": null,
   "metadata": {},
   "outputs": [],
   "source": [
    "\n",
    "def get2DPose(inFile):\n",
    "    image = cv2.imread(inFile)\n",
    "    print(image.shape)\n",
    "    \n",
    "    # copy to draw on\n",
    "    draw = image.copy()\n",
    "    draw = cv2.cvtColor(draw, cv2.COLOR_BGR2RGB)\n",
    "\n",
    "    # preprocess image for network\n",
    "    image = validation_generator.preprocess_image(image)\n",
    "    print(image.shape)\n",
    "    image, scale = validation_generator.resize_image(image)\n",
    "    print(image.shape)\n",
    "    print(scale)\n",
    "    \n",
    "    # process image\n",
    "    start = time.time()\n",
    "    detections = None\n",
    "    _, _, detections = model.predict_on_batch(np.expand_dims(image, axis=0))\n",
    "    print(\"processing time: \", time.time() - start)\n",
    "\n",
    "    # compute predicted labels and scores\n",
    "    predicted_labels = np.argmax(detections[0, :, 4:], axis=1)\n",
    "    scores = detections[0, np.arange(detections.shape[1]), 4 + predicted_labels]\n",
    "    # correct for image scale\n",
    "    detections[0, :, :4] /= scale\n",
    "    \n",
    "    b = None\n",
    "    foundTarget = False\n",
    "    angle = None\n",
    "    centerX = np.zeros(numFeatures, dtype=int)\n",
    "    centerY = np.zeros(numFeatures, dtype=int)\n",
    "\n",
    "    # visualize detections\n",
    "    for idx, (label, score) in enumerate(zip(predicted_labels, scores)):\n",
    "        if score < 0.1 or centerX[label] != 0:\n",
    "            continue\n",
    "            \n",
    "        b = detections[0, idx, :4].astype(int)\n",
    "        if label == ORIGIN_LABEL_ID: # using hole1 as the origin\n",
    "            foundTarget = True\n",
    "            originX = (b[0]+b[2])/2\n",
    "            originY = (b[1]+b[3])/2\n",
    "           \n",
    "        cv2.rectangle(draw, (b[0], b[1]), (b[2], b[3]), (0, 0, 255), 3)\n",
    "        caption = \"{} {:.3f}\".format(validation_generator.label_to_name(label), score)\n",
    "        cv2.putText(draw, caption, (b[0], b[1] - 5), cv2.FONT_HERSHEY_PLAIN, 1.5, (0, 0, 0), 3)\n",
    "        cv2.putText(draw, caption, (b[0], b[1] - 5), cv2.FONT_HERSHEY_PLAIN, 1.5, (255, 255, 255), 2)\n",
    "\n",
    "        centerX[label] = (b[2]+b[0])/2\n",
    "        centerY[label] = (b[3]+b[1])/2\n",
    "        print(label, centerX[label], centerY[label], score)\n",
    "        \n",
    "    \n",
    "    plt.figure(figsize=(15, 15))\n",
    "    plt.axis('off')\n",
    "    plt.imshow(draw)\n",
    "    plt.show()\n",
    "\n",
    "    if not foundTarget:\n",
    "        return -999, -999, -999\n",
    "    \n",
    "    \n",
    "    print(\"origin and angle\", originX, originY, angle)\n",
    "    \n",
    "    if not foundTarget:\n",
    "        angleAvg = angle\n",
    "    else:\n",
    "        angleList = [] \n",
    "        for labelID in range(numOrigins+1, numFeatures, 1):\n",
    "            if centerX[labelID] != 0 and centerY[labelID] != 0:\n",
    "                featureAngle = (math.atan2(centerY[labelID] - originY, centerX[labelID] -originX)) * 180.0 / math.pi - initAngle[labelID]\n",
    "                if featureAngle < -180:\n",
    "                    featureAngle = featureAngle + 360\n",
    "                elif featureAngle > 180:\n",
    "                    featureAngle = 360 - featureAngle\n",
    "                print(\"featureAngle:\", labelID, centerX[labelID], centerY[labelID], featureAngle)\n",
    "                angleList.append(featureAngle)\n",
    "    \n",
    "        angleMedian = statistics.median(angleList)\n",
    "    print(\"returning\", originX, originY, angleMedian)\n",
    "    return originX, originY, angleMedian"
   ]
  },
  {
   "cell_type": "markdown",
   "metadata": {},
   "source": [
    "# Tests"
   ]
  },
  {
   "cell_type": "code",
   "execution_count": null,
   "metadata": {},
   "outputs": [],
   "source": [
    "# create image data generator object\n",
    "val_image_data_generator = keras.preprocessing.image.ImageDataGenerator()\n",
    "\n",
    "validation_generator = CSVGenerator(\n",
    "                '/media/kai/Data1/robotPrototype/data/MLRotation/annotation180326CircuitBoard.txt',\n",
    "                '/media/kai/Data1/robotPrototype/data/MLRotation/classname180326CircuitBoard.txt',\n",
    "                val_image_data_generator,\n",
    "                batch_size=10\n",
    "            )"
   ]
  },
  {
   "cell_type": "code",
   "execution_count": null,
   "metadata": {},
   "outputs": [],
   "source": [
    "# testFile = \"/media/kai/Data1/robotPrototype/data/MLRotation/resultImg4/out_400_200_25.png\"\n",
    "#testFile = \"/media/kai/Data1/robotPrototype/data/180109OriginInferenceIssue/undistorted.png\"\n",
    "#testFile = \"/media/kai-laptop/study/robot_prototype/ur3Control/tmp/undistorted.png\"\n",
    "#testFile = \"/media/kai-laptop/study/robot_prototype/ur3Control/tmp/undistorted.png\"\n",
    "#testFile = \"/media/kai/Data1/robotPrototype/data/MLRotation/circuitBoard180319.png\"\n",
    "testFile = \"/media/kai/Data1/robotPrototype/data/MLRotation/180326CircuitBoard/val8.png\"\n",
    "\n",
    "result = get2DPose(testFile)"
   ]
  },
  {
   "cell_type": "code",
   "execution_count": null,
   "metadata": {},
   "outputs": [],
   "source": []
  }
 ],
 "metadata": {
  "kernelspec": {
   "display_name": "tensorflow",
   "language": "python",
   "name": "tensorflow"
  },
  "language_info": {
   "codemirror_mode": {
    "name": "ipython",
    "version": 3
   },
   "file_extension": ".py",
   "mimetype": "text/x-python",
   "name": "python",
   "nbconvert_exporter": "python",
   "pygments_lexer": "ipython3",
   "version": "3.5.2"
  }
 },
 "nbformat": 4,
 "nbformat_minor": 2
}

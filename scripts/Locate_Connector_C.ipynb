{
 "cells": [
  {
   "cell_type": "code",
   "execution_count": 43,
   "metadata": {},
   "outputs": [],
   "source": [
    "import numpy as np\n",
    "import cv2\n",
    "from matplotlib import pyplot as plt\n",
    "import subprocess\n",
    "import math"
   ]
  },
  {
   "cell_type": "code",
   "execution_count": 28,
   "metadata": {},
   "outputs": [],
   "source": [
    "# feature values for \"/home/kai/work/data/180116ConnectC/c{}.png\"\n",
    "features = [[92,36,-30.5],\n",
    "           [89,39,-27.7],\n",
    "           [71,61,-9.25],\n",
    "           [51,73,1.0],\n",
    "           [83,48, -20.15],\n",
    "           [101,14,-41.0],\n",
    "           [60,73,0],\n",
    "           [-15,37,58],\n",
    "           [94,26,-34.4]]\n",
    "\n",
    "cropBox = [-250,-300, 100, -100]"
   ]
  },
  {
   "cell_type": "code",
   "execution_count": 56,
   "metadata": {},
   "outputs": [],
   "source": [
    "def getFeatureOffset(features, cropBox, inFileName, originX, originY, angle, debug=False):\n",
    "    command = \"{},{} {}\".format(originX, originY, angle)\n",
    "    outFileName = \"tmp_straightened.png\"\n",
    "    subprocess.run([\"convert\", inFileName, \"-distort\", \"SRT\", command, \"-alpha\", \"off\", outFileName])\n",
    "\n",
    "    img = cv2.imread(outFileName, cv2.IMREAD_GRAYSCALE)\n",
    "    if debug:\n",
    "        print(img.shape)\n",
    "    img_cropped = img[originY+cropBox[1]:originY+cropBox[3], originX+cropBox[0]:originX+cropBox[2]]\n",
    "    #img_cropped = img\n",
    "    if debug:\n",
    "        print(img_cropped.shape)\n",
    "\n",
    "    bestVal = 100000\n",
    "\n",
    "    for index in range(0,len(features)):\n",
    "        filename = \"/media/kai/Data1/robotPrototype/calibration/180116ConnectC/c{}.png\".format(index)\n",
    "        cTemplate = cv2.imread(filename, cv2.IMREAD_GRAYSCALE)\n",
    "        w, h = cTemplate.shape[::-1]\n",
    "\n",
    "        result = cv2.matchTemplate(img_cropped, cTemplate, cv2.TM_SQDIFF_NORMED)\n",
    "        (minVal, maxVal, minLoc, maxLoc) = cv2.minMaxLoc(result)\n",
    "        if debug:\n",
    "            print(index, minVal)\n",
    "\n",
    "        if minVal < bestVal:\n",
    "            bestVal = minVal\n",
    "            bestLoc = minLoc\n",
    "            bestIndex = index\n",
    "            bestResult = result\n",
    "\n",
    "    top_left = bestLoc\n",
    "    bottom_right = (top_left[0] + w, top_left[1] + h)\n",
    "    if debug:\n",
    "        print(\"best match: \", bestIndex, top_left, bottom_right)\n",
    "    resultX = cropBox[0]+top_left[0]+features[bestIndex][0]\n",
    "    resultY = cropBox[1]+top_left[1]+features[bestIndex][1]\n",
    "    resultAngle = features[bestIndex][2]\n",
    "    \n",
    "    # return pose relative to origin\n",
    "    resultX = -0.0001618 * resultX\n",
    "    resultY = -0.0001627 * resultY\n",
    "    resultZ = -0.005\n",
    "    rX = 0.139\n",
    "    rY = -0.35\n",
    "    rZ = resultAngle * math.pi/180.0\n",
    "    if debug:\n",
    "        print(\"result (pixels offset from origin): ({}, {}) , angle = {}\".format(resultX, resultY, resultAngle))\n",
    "    \n",
    "    if debug:\n",
    "        filename = \"/home/kai/work/data/180116ConnectC/c{}.png\".format(bestIndex)\n",
    "        cTemplate = cv2.imread(filename, cv2.IMREAD_GRAYSCALE)\n",
    "        cv2.rectangle(img_cropped,top_left, bottom_right, 255, 3)\n",
    "        plt.subplot(121),plt.imshow(img_cropped,cmap = 'gray')\n",
    "        plt.title('Detected Point'), plt.xticks([]), plt.yticks([])\n",
    "        plt.subplot(122),plt.imshow(cTemplate,cmap = 'gray')\n",
    "        plt.title('template image'), plt.xticks([]), plt.yticks([])\n",
    "        plt.show()\n",
    "        \n",
    "    return \"({}, {}, {}, {}, {}, {})\\n\".format(resultX, resultY, resultZ, rX, rY, rZ)"
   ]
  },
  {
   "cell_type": "code",
   "execution_count": 57,
   "metadata": {},
   "outputs": [
    {
     "name": "stdout",
     "output_type": "stream",
     "text": [
      "(0.009708, 0.0383972, -0.005, 0.139, -0.35, -0.6003932626860493)\n",
      "\n"
     ]
    }
   ],
   "source": [
    "inFileName = '/media/kai/Data1/robotPrototype/data/180116SearchOriginAndPointCloud/undistorted.png'\n",
    "#inFileName = '/home/kai/work/data/180116ConnectC/img11.jpg'\n",
    "\n",
    "\n",
    "#rotate this around origin to reference plane\n",
    "# (620.5 447.0), angle = 5.5309909440\n",
    "originX = round(620.5)\n",
    "originY = 447\n",
    "angle = -5.531\n",
    "\n",
    "result = getFeatureOffset(features, cropBox, inFileName, originX, originY, angle, debug=False)\n",
    "print(result)"
   ]
  },
  {
   "cell_type": "code",
   "execution_count": null,
   "metadata": {},
   "outputs": [],
   "source": []
  }
 ],
 "metadata": {
  "kernelspec": {
   "display_name": "tensorflow",
   "language": "python",
   "name": "tensorflow"
  },
  "language_info": {
   "codemirror_mode": {
    "name": "ipython",
    "version": 3
   },
   "file_extension": ".py",
   "mimetype": "text/x-python",
   "name": "python",
   "nbconvert_exporter": "python",
   "pygments_lexer": "ipython3",
   "version": "3.5.2"
  }
 },
 "nbformat": 4,
 "nbformat_minor": 2
}

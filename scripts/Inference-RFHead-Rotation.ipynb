{
 "cells": [
  {
   "cell_type": "markdown",
   "metadata": {},
   "source": [
    "Inference notebook to determine the position and angle of RF connector head\n",
    "using the circuit_rfHeadRotation image data set\n",
    "- model used random augmentation of position and rotation"
   ]
  },
  {
   "cell_type": "code",
   "execution_count": null,
   "metadata": {},
   "outputs": [],
   "source": [
    "%matplotlib inline\n",
    "%load_ext autoreload\n",
    "%autoreload 2\n",
    "import math\n",
    "\n",
    "import keras\n",
    "import keras.preprocessing.image\n",
    "from keras_retinanet.models.resnet import custom_objects\n",
    "from keras_retinanet.preprocessing.csv_generator import CSVGenerator\n",
    "\n",
    "import matplotlib.pyplot as plt\n",
    "import cv2\n",
    "import os\n",
    "import numpy as np\n",
    "import time\n",
    "\n",
    "import tensorflow as tf\n",
    "\n",
    "def get_session():\n",
    "    config = tf.ConfigProto()\n",
    "    config.gpu_options.allow_growth = True\n",
    "    return tf.Session(config=config)\n",
    "\n",
    "# os.environ[\"CUDA_VISIBLE_DEVICES\"] = \"0\"\n",
    "keras.backend.tensorflow_backend.set_session(get_session())"
   ]
  },
  {
   "cell_type": "code",
   "execution_count": null,
   "metadata": {},
   "outputs": [],
   "source": [
    "import sys\n",
    "print(sys.modules['keras_retinanet'].__file__)\n",
    "print(sys.modules['keras_resnet'].__file__)\n",
    "print(sys.modules['keras'].__file__)"
   ]
  },
  {
   "cell_type": "code",
   "execution_count": null,
   "metadata": {},
   "outputs": [],
   "source": [
    "model = keras.models.load_model('../snapshots/circuit_rfHeadRotation/circuit_resnet50_csv_10.h5', custom_objects=custom_objects)\n",
    "# print(model.summary())"
   ]
  },
  {
   "cell_type": "code",
   "execution_count": null,
   "metadata": {},
   "outputs": [],
   "source": [
    "model_json = model.to_json()\n",
    "print(model_json)"
   ]
  },
  {
   "cell_type": "code",
   "execution_count": null,
   "metadata": {},
   "outputs": [],
   "source": [
    "def add_noise(inData):\n",
    "    result = np.random.normal(inData, scale=0.5).astype(np.uint8)\n",
    "    print(\"adding noise ---- from {}:{} to {}:{}\".format(inData.min(), inData.max(), result.min(), result.max()))\n",
    "    return result\n",
    "\n",
    "def set_to_zero(inData):\n",
    "    result = np.zeros(inData.shape).astype(np.uint8)\n",
    "    print(\"adding noise ---- from {}:{} to {}:{}\".format(inData.min(), inData.max(), result.min(), result.max()))\n",
    "    return result\n",
    "\n"
   ]
  },
  {
   "cell_type": "code",
   "execution_count": null,
   "metadata": {},
   "outputs": [],
   "source": [
    "\n",
    "def get2DPose(inFile):\n",
    "    image = cv2.imread(inFile)\n",
    "    print(image.shape)\n",
    "    \n",
    "    # copy to draw on\n",
    "    draw = image.copy()\n",
    "    draw = cv2.cvtColor(draw, cv2.COLOR_BGR2RGB)\n",
    "\n",
    "    # preprocess image for network\n",
    "    image = validation_generator.preprocess_image(image)\n",
    "    print(image.shape)\n",
    "    image, scale = validation_generator.resize_image(image)\n",
    "    print(image.shape)\n",
    "    print(scale)\n",
    "    \n",
    "    # process image\n",
    "    start = time.time()\n",
    "    detections = None\n",
    "    _, _, detections = model.predict_on_batch(np.expand_dims(image, axis=0))\n",
    "    print(\"processing time: \", time.time() - start)\n",
    "\n",
    "    # compute predicted labels and scores\n",
    "    predicted_labels = np.argmax(detections[0, :, 4:], axis=1)\n",
    "    scores = detections[0, np.arange(detections.shape[1]), 4 + predicted_labels]\n",
    "    # correct for image scale\n",
    "    detections[0, :, :4] /= scale\n",
    "    \n",
    "    b = None\n",
    "\n",
    "    # visualize detections\n",
    "    for idx, (label, score) in enumerate(zip(predicted_labels, scores)):\n",
    "        if score < 0.5:\n",
    "            continue\n",
    "            \n",
    "        b = detections[0, idx, :4].astype(int)\n",
    "        color = (0, 0, 255) if label == 0 else (255,0,0)\n",
    "        cv2.rectangle(draw, (b[0], b[1]), (b[2], b[3]), color, 3)\n",
    "        angleResult = validation_generator.label_to_name(label)\n",
    "        caption = \"{} {:.2f}\".format(angleResult, score)\n",
    "        cv2.putText(draw, caption, (b[0], b[1] - 2), cv2.FONT_HERSHEY_PLAIN, 1, (0, 0, 0), 3)\n",
    "        cv2.putText(draw, caption, (b[0], b[1] - 2), cv2.FONT_HERSHEY_PLAIN, 1, (255, 255, 255), 2)\n",
    "\n",
    "        centerX = (b[2]+b[0])/2\n",
    "        centerY = (b[3]+b[1])/2\n",
    "        print(angleResult, centerX, centerY, score)\n",
    "        \n",
    "    \n",
    "    plt.figure(figsize=(15, 15))\n",
    "    plt.axis('off')\n",
    "    plt.imshow(draw)\n",
    "    plt.show()\n",
    "\n",
    "    \n"
   ]
  },
  {
   "cell_type": "markdown",
   "metadata": {},
   "source": [
    "# Tests"
   ]
  },
  {
   "cell_type": "code",
   "execution_count": null,
   "metadata": {},
   "outputs": [],
   "source": [
    "# create image data generator object\n",
    "val_image_data_generator = keras.preprocessing.image.ImageDataGenerator()\n",
    "\n",
    "validation_generator = CSVGenerator(\n",
    "                '/media/kai/Data1/robotPrototype/data/180419rfHeadRotation/annotationRFHead.txt',\n",
    "                '/media/kai/Data1/robotPrototype/data/180419rfHeadRotation/classnameRFHead.txt',\n",
    "                val_image_data_generator,\n",
    "                batch_size=10\n",
    "            )"
   ]
  },
  {
   "cell_type": "code",
   "execution_count": null,
   "metadata": {},
   "outputs": [],
   "source": [
    "import random\n",
    "#inAngle = random.randint(0,8)*45\n",
    "#testFile = \"/media/kai/Data1/robotPrototype/data/180419rfHeadRotation/{}/5-2.bmp\".format(inAngle)\n",
    "#print(\"inAngle: \", inAngle)\n",
    "\n",
    "\n",
    "index = random.randint(0,validation_generator.size()-1)\n",
    "testFile = validation_generator.image_path(index)\n",
    "print(\"imagePath: \", testFile)\n",
    "get2DPose(testFile)\n"
   ]
  },
  {
   "cell_type": "code",
   "execution_count": null,
   "metadata": {},
   "outputs": [],
   "source": []
  }
 ],
 "metadata": {
  "kernelspec": {
   "display_name": "tensorflow",
   "language": "python",
   "name": "tensorflow"
  },
  "language_info": {
   "codemirror_mode": {
    "name": "ipython",
    "version": 3
   },
   "file_extension": ".py",
   "mimetype": "text/x-python",
   "name": "python",
   "nbconvert_exporter": "python",
   "pygments_lexer": "ipython3",
   "version": "3.5.2"
  }
 },
 "nbformat": 4,
 "nbformat_minor": 2
}

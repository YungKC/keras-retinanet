{
 "cells": [
  {
   "cell_type": "code",
   "execution_count": null,
   "metadata": {},
   "outputs": [],
   "source": [
    "%matplotlib inline\n",
    "%load_ext autoreload\n",
    "%autoreload 2\n",
    "\n",
    "import keras\n",
    "import keras.preprocessing.image\n",
    "from keras_retinanet.models.resnet import custom_objects\n",
    "from keras_retinanet.preprocessing.csv_generator import CSVGenerator\n",
    "\n",
    "import matplotlib.pyplot as plt\n",
    "import cv2\n",
    "import os\n",
    "import numpy as np\n",
    "import time\n",
    "\n",
    "import tensorflow as tf\n",
    "\n",
    "def get_session():\n",
    "    config = tf.ConfigProto()\n",
    "    config.gpu_options.allow_growth = True\n",
    "    return tf.Session(config=config)\n",
    "\n",
    "# os.environ[\"CUDA_VISIBLE_DEVICES\"] = \"0\"\n",
    "keras.backend.tensorflow_backend.set_session(get_session())"
   ]
  },
  {
   "cell_type": "code",
   "execution_count": null,
   "metadata": {},
   "outputs": [],
   "source": [
    "import sys\n",
    "print(sys.modules['keras_retinanet'].__file__)\n",
    "print(sys.modules['keras_resnet'].__file__)\n",
    "print(sys.modules['keras'].__file__)"
   ]
  },
  {
   "cell_type": "code",
   "execution_count": null,
   "metadata": {},
   "outputs": [],
   "source": [
    "# model = keras.models.load_model('../snapshots/resnet50_csv_06-10kbatch.h5', custom_objects=custom_objects)\n",
    "# model = keras.models.load_model('../snapshots/wideAngleCircuit-17-12-21/resnet50_csv_04.h5', custom_objects=custom_objects)\n",
    "model = keras.models.load_model('../snapshots/wideAngleCircuit-17-12-29/resnet50_csv_09.h5', custom_objects=custom_objects)\n",
    "# print(model.summary())"
   ]
  },
  {
   "cell_type": "code",
   "execution_count": null,
   "metadata": {
    "collapsed": true
   },
   "outputs": [],
   "source": [
    "def add_noise(inData):\n",
    "    result = np.random.normal(inData, scale=0.5).astype(np.uint8)\n",
    "    print(\"adding noise ---- from {}:{} to {}:{}\".format(inData.min(), inData.max(), result.min(), result.max()))\n",
    "    return result\n",
    "\n",
    "def set_to_zero(inData):\n",
    "    result = np.zeros(inData.shape).astype(np.uint8)\n",
    "    print(\"adding noise ---- from {}:{} to {}:{}\".format(inData.min(), inData.max(), result.min(), result.max()))\n",
    "    return result\n",
    "\n"
   ]
  },
  {
   "cell_type": "code",
   "execution_count": null,
   "metadata": {
    "collapsed": true
   },
   "outputs": [],
   "source": [
    "# Note: this is a huge dataset. Not needed if just doing inference from actual run images\n",
    "\n",
    "# create image data generator object\n",
    "val_image_data_generator = keras.preprocessing.image.ImageDataGenerator()\n",
    "\n",
    "# create a generator for testing data\n",
    "validation_generator = CSVGenerator(\n",
    "                'C:\\\\Users\\\\Kai\\\\study\\\\robot_prototype\\\\data\\\\MLRotation\\\\annotation4.txt',\n",
    "                'C:\\\\Users\\\\Kai\\\\study\\\\robot_prototype\\\\data\\\\MLRotation\\\\classname4.txt',\n",
    "                val_image_data_generator,\n",
    "                batch_size=10\n",
    "            )"
   ]
  },
  {
   "cell_type": "code",
   "execution_count": null,
   "metadata": {
    "collapsed": true
   },
   "outputs": [],
   "source": [
    "# load image\n",
    "index = np.random.randint(0,16800)\n",
    "image = validation_generator.load_image(index)\n",
    "print(image.shape)"
   ]
  },
  {
   "cell_type": "code",
   "execution_count": null,
   "metadata": {
    "collapsed": true
   },
   "outputs": [],
   "source": [
    "# use this block to test against actual image\n",
    "# image = cv2.imread(\"testImg/cellBaseRotated3.bmp.png\")\n",
    "#image = cv2.imread(\"C:\\\\Users\\\\Kai\\\\study\\\\robot_prototype\\\\ur3Control\\\\tmp\\\\undistorted.png\")\n",
    "image = cv2.imread(\"\\\\\\\\KAI-LAPTOP\\\\Users\\\\kai\\\\study\\\\robot_prototype\\\\ur3Control\\\\tmp\\\\undistorted.png\")\n",
    "print(image.shape)"
   ]
  },
  {
   "cell_type": "code",
   "execution_count": null,
   "metadata": {
    "collapsed": true
   },
   "outputs": [],
   "source": [
    "image = add_noise(image)"
   ]
  },
  {
   "cell_type": "code",
   "execution_count": null,
   "metadata": {
    "collapsed": true
   },
   "outputs": [],
   "source": [
    "\n",
    "# copy to draw on\n",
    "draw = image.copy()\n",
    "draw = cv2.cvtColor(draw, cv2.COLOR_BGR2RGB)\n",
    "\n",
    "# preprocess image for network\n",
    "image = validation_generator.preprocess_image(image)\n",
    "print(image.shape)\n",
    "image, scale = validation_generator.resize_image(image)\n",
    "print(image.shape)\n",
    "annotations = validation_generator.load_annotations(index)\n",
    "\n",
    "print(index)\n",
    "print(validation_generator.image_path(index))\n",
    "print(scale)\n",
    "print(annotations)\n"
   ]
  },
  {
   "cell_type": "code",
   "execution_count": null,
   "metadata": {
    "collapsed": true
   },
   "outputs": [],
   "source": [
    "# process image\n",
    "start = time.time()\n",
    "detections = None\n",
    "_, _, detections = model.predict_on_batch(np.expand_dims(image, axis=0))\n",
    "print(\"processing time: \", time.time() - start)\n",
    "\n",
    "# compute predicted labels and scores\n",
    "predicted_labels = np.argmax(detections[0, :, 4:], axis=1)\n",
    "print(predicted_labels)\n",
    "scores = detections[0, np.arange(detections.shape[1]), 4 + predicted_labels]\n",
    "# correct for image scale\n",
    "detections[0, :, :4] /= scale"
   ]
  },
  {
   "cell_type": "code",
   "execution_count": null,
   "metadata": {
    "collapsed": true
   },
   "outputs": [],
   "source": [
    "\n",
    "# visualize annotations\n",
    "for annotation in annotations:\n",
    "    label = int(annotation[4])\n",
    "    b = annotation[:4].astype(int)\n",
    "    cv2.rectangle(draw, (b[0], b[1]), (b[2], b[3]), (0, 255, 0), 2)\n",
    "    caption = \"{}\".format(validation_generator.label_to_name(label))\n",
    "    cv2.putText(draw, caption, (b[0], b[1] - 10), cv2.FONT_HERSHEY_PLAIN, 1.5, (0, 0, 0), 3)\n",
    "    cv2.putText(draw, caption, (b[0], b[1] - 10), cv2.FONT_HERSHEY_PLAIN, 1.5, (255, 255, 255), 2)\n",
    "    \n",
    "# visualize detections\n",
    "for idx, (label, score) in enumerate(zip(predicted_labels, scores)):\n",
    "    if score < 0.1:\n",
    "        continue\n",
    "    b = detections[0, idx, :4].astype(int)\n",
    "    cv2.rectangle(draw, (b[0], b[1]), (b[2], b[3]), (0, 0, 255), 3)\n",
    "    caption = \"{} {:.3f}\".format(validation_generator.label_to_name(label), score)\n",
    "    cv2.putText(draw, caption, (b[0], b[1] - 50), cv2.FONT_HERSHEY_PLAIN, 1.5, (0, 0, 0), 3)\n",
    "    cv2.putText(draw, caption, (b[0], b[1] - 50), cv2.FONT_HERSHEY_PLAIN, 1.5, (255, 255, 255), 2)\n",
    "    \n",
    "plt.figure(figsize=(15, 15))\n",
    "plt.axis('off')\n",
    "plt.imshow(draw)\n",
    "plt.show()\n",
    "\n",
    "print(b[0]+50)\n",
    "print(b[1]+50)"
   ]
  },
  {
   "cell_type": "code",
   "execution_count": null,
   "metadata": {
    "collapsed": true
   },
   "outputs": [],
   "source": [
    "print(detections[0:3])"
   ]
  },
  {
   "cell_type": "code",
   "execution_count": null,
   "metadata": {
    "collapsed": true
   },
   "outputs": [],
   "source": [
    "print(scores[0:3])"
   ]
  },
  {
   "cell_type": "markdown",
   "metadata": {},
   "source": [
    "# Define function to return 2D pose from image file"
   ]
  },
  {
   "cell_type": "code",
   "execution_count": null,
   "metadata": {
    "collapsed": true
   },
   "outputs": [],
   "source": [
    "import math\n",
    "def get2DPose(inFile):\n",
    "    image = cv2.imread(inFile)\n",
    "    print(image.shape)\n",
    "    \n",
    "    # copy to draw on\n",
    "    draw = image.copy()\n",
    "    draw = cv2.cvtColor(draw, cv2.COLOR_BGR2RGB)\n",
    "\n",
    "    # preprocess image for network\n",
    "    image = validation_generator.preprocess_image(image)\n",
    "    print(image.shape)\n",
    "    image, scale = validation_generator.resize_image(image)\n",
    "    print(image.shape)\n",
    "    print(scale)\n",
    "    \n",
    "    # process image\n",
    "    start = time.time()\n",
    "    detections = None\n",
    "    _, _, detections = model.predict_on_batch(np.expand_dims(image, axis=0))\n",
    "    print(\"processing time: \", time.time() - start)\n",
    "\n",
    "    # compute predicted labels and scores\n",
    "    predicted_labels = np.argmax(detections[0, :, 4:], axis=1)\n",
    "    scores = detections[0, np.arange(detections.shape[1]), 4 + predicted_labels]\n",
    "    # correct for image scale\n",
    "    detections[0, :, :4] /= scale\n",
    "    \n",
    "    b = None\n",
    "    foundTarget = False\n",
    "    angle = None\n",
    "    centerx = centery = f1x = f1y = f2x = f2y = None\n",
    "    # visualize detections\n",
    "    for idx, (label, score) in enumerate(zip(predicted_labels, scores)):\n",
    "        if score < 0.5:\n",
    "            continue\n",
    "        b = detections[0, idx, :4].astype(int)\n",
    "        print(b)\n",
    "        cv2.rectangle(draw, (b[0], b[1]), (b[2], b[3]), (0, 0, 255), 3)\n",
    "        className = validation_generator.label_to_name(label)\n",
    "        if className.startswith(\"circuit_\"):\n",
    "            foundTarget = True\n",
    "            angle = int(className.split('_')[1])\n",
    "            centerx = (b[0]+b[2])/2\n",
    "            centery = (b[1]+b[3])/2\n",
    "        elif className == 'feature1':\n",
    "            f1x = (b[0]+b[2])/2\n",
    "            f1y = (b[1]+b[3])/2\n",
    "        elif className == 'feature2':\n",
    "            f2x = (b[0]+b[2])/2\n",
    "            f2y = (b[1]+b[3])/2            \n",
    "        caption = \"{} {:.3f}\".format(className, score)\n",
    "        cv2.putText(draw, caption, (b[0], b[1] - 50), cv2.FONT_HERSHEY_PLAIN, 1.5, (0, 0, 0), 3)\n",
    "        cv2.putText(draw, caption, (b[0], b[1] - 50), cv2.FONT_HERSHEY_PLAIN, 1.5, (255, 255, 255), 2)\n",
    "\n",
    "    plt.figure(figsize=(15, 15))\n",
    "    plt.axis('off')\n",
    "    plt.imshow(draw)\n",
    "    plt.show()\n",
    "\n",
    "    if not foundTarget:\n",
    "        return -999, -999, -999\n",
    "    \n",
    "    \n",
    "    print(centerx, centery, angle)\n",
    "    print(f1x, f1y)\n",
    "    print(f2x, f2y)\n",
    "    \n",
    "    if f1x == None or f2x == None:\n",
    "        angleAvg = angle\n",
    "    else:\n",
    "        print(f1y - centery)\n",
    "        print(centerx - f1x)\n",
    "        a1 = math.atan(-(f1y - centery)/(centerx - f1x))*180/math.pi\n",
    "        print(a1)\n",
    "\n",
    "        print(f1x - f2x)\n",
    "        print(f1y - f2y)\n",
    "        a2 = math.atan(-(f1x - f2x)/(f1y - f2y))*180/math.pi\n",
    "        print(a2)\n",
    "\n",
    "        angleAvg = round((a1+a2)/2, 3)\n",
    "\n",
    "    print(\"returning\", centerx, centery, angleAvg)\n",
    "    return centerx, centery, angleAvg"
   ]
  },
  {
   "cell_type": "markdown",
   "metadata": {
    "collapsed": true
   },
   "source": [
    "# Create Server to respond to identification request"
   ]
  },
  {
   "cell_type": "code",
   "execution_count": null,
   "metadata": {},
   "outputs": [],
   "source": [
    "import socket\n",
    "import time\n",
    "\n",
    "HOST = \"192.168.1.115\" #The remote host\n",
    "PORT = 3001 # The same port as used by the server\n",
    "print(\"Starting 2d id program\")"
   ]
  },
  {
   "cell_type": "code",
   "execution_count": null,
   "metadata": {
    "collapsed": true
   },
   "outputs": [],
   "source": [
    "returnVal = None"
   ]
  },
  {
   "cell_type": "code",
   "execution_count": null,
   "metadata": {
    "collapsed": true
   },
   "outputs": [],
   "source": [
    "# create image data generator object\n",
    "val_image_data_generator = keras.preprocessing.image.ImageDataGenerator()\n",
    "\n",
    "# create a generator for testing data\n",
    "validation_generator = CSVGenerator(\n",
    "                'C:\\\\Users\\\\Kai\\\\study\\\\robot_prototype\\\\data\\\\MLRotation\\\\annotation4Tiny.txt',\n",
    "                'C:\\\\Users\\\\Kai\\\\study\\\\robot_prototype\\\\data\\\\MLRotation\\\\classname4.txt',\n",
    "                val_image_data_generator,\n",
    "                batch_size=10\n",
    "            )"
   ]
  },
  {
   "cell_type": "code",
   "execution_count": null,
   "metadata": {},
   "outputs": [],
   "source": [
    "finishedLoop = False\n",
    "while finishedLoop == False:\n",
    "    print(\"Waiting for connections...\")\n",
    "    s = socket.socket(socket.AF_INET, socket.SOCK_STREAM)\n",
    "    s.setsockopt(socket.SOL_SOCKET, socket.SO_REUSEADDR, 1)\n",
    "    s.bind((HOST, PORT)) # Bind to the port \n",
    "    s.listen(5) # Now wait for client connection.\n",
    "    c, addr = s.accept() # Establish connection with client.\n",
    "    print(\"Connected\")\n",
    "    foundError = False\n",
    "    finishedInner = False\n",
    "    while foundError == False and finishedInner == False:\n",
    "        try:\n",
    "            msg = c.recv(40).decode(\"utf-8\")\n",
    "            if msg != \"\":\n",
    "                print(\"received: \" + msg)\n",
    "            time.sleep(1)\n",
    "            if msg == \"getCircuitOrigin\":\n",
    "                x,y,a = get2DPose(\"\\\\\\\\KAI-LAPTOP\\\\Users\\\\kai\\\\study\\\\robot_prototype\\\\ur3Control\\\\tmp\\\\undistorted.png\")\n",
    "                if x == -999:\n",
    "                    returnVal = \"None Found\"\n",
    "                else:    \n",
    "                    x = (-0.4419 * x + 187.51)/1000.0\n",
    "                    y = (-0.4141 * y + 259.6)/1000.0\n",
    "                    z = -25.0/1000.0\n",
    "                    rx = 0.0\n",
    "                    ry = 0.0\n",
    "                    rz = a / 180.0 * math.pi\n",
    "                    returnVal = \"{0:8.4f}, {1:8.4f}, {2:8.4f}, {3:6.3f}, {4:6.3f}, {5:6.3f}\".format(x, y, z, rx, ry, rz)\n",
    "                print(\"sending: \", returnVal)\n",
    "                c.send(returnVal.encode())\n",
    "                finishedInner = True\n",
    "            elif msg == \"getOrigin\":\n",
    "                returnString = \"({})\\n\".format(returnVal)\n",
    "                c.send(returnString.encode())\n",
    "                print(returnString)\n",
    "                finishedInner = True\n",
    "            elif msg == \"end\":\n",
    "                finishedLoop = True\n",
    "                finishedInner = True\n",
    "        except socket.error as socketError:\n",
    "            print(socketError)\n",
    "            foundError = True\n",
    "    c.close()\n",
    "    s.close()"
   ]
  },
  {
   "cell_type": "markdown",
   "metadata": {},
   "source": [
    "# Tests"
   ]
  },
  {
   "cell_type": "code",
   "execution_count": null,
   "metadata": {
    "collapsed": true
   },
   "outputs": [],
   "source": [
    "# create image data generator object\n",
    "val_image_data_generator = keras.preprocessing.image.ImageDataGenerator()\n",
    "\n",
    "# create a generator for testing data\n",
    "validation_generator = CSVGenerator(\n",
    "                'C:\\\\Users\\\\Kai\\\\study\\\\robot_prototype\\\\data\\\\MLRotation\\\\annotation4Tiny.txt',\n",
    "                'C:\\\\Users\\\\Kai\\\\study\\\\robot_prototype\\\\data\\\\MLRotation\\\\classname4.txt',\n",
    "                val_image_data_generator,\n",
    "                batch_size=10\n",
    "            )"
   ]
  },
  {
   "cell_type": "code",
   "execution_count": null,
   "metadata": {
    "collapsed": true
   },
   "outputs": [],
   "source": [
    "result = get2DPose(\"\\\\\\\\KAI-LAPTOP\\\\Users\\\\kai\\\\study\\\\robot_prototype\\\\ur3Control\\\\tmp\\\\undistorted.png\")\n",
    "# result = get2DPose(\"C:\\\\Users\\\\Kai\\\\study\\\\robot_prototype\\\\pyCameraCalibration\\\\result\\\\raw\\\\img65.jpg.png\")"
   ]
  },
  {
   "cell_type": "code",
   "execution_count": null,
   "metadata": {
    "collapsed": true
   },
   "outputs": [],
   "source": []
  }
 ],
 "metadata": {
  "kernelspec": {
   "display_name": "Python 3",
   "language": "python",
   "name": "python3"
  },
  "language_info": {
   "codemirror_mode": {
    "name": "ipython",
    "version": 3
   },
   "file_extension": ".py",
   "mimetype": "text/x-python",
   "name": "python",
   "nbconvert_exporter": "python",
   "pygments_lexer": "ipython3",
   "version": "3.6.1"
  }
 },
 "nbformat": 4,
 "nbformat_minor": 2
}
